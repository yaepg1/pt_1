{
 "cells": [
  {
   "cell_type": "markdown",
   "metadata": {
    "id": "bQMnzGuPstpi"
   },
   "source": [
    "# Implementación de algoritmos de aproximación offline para resolver el problema \"bin packing\" en una dimensión\n",
    "## Introducción\n",
    "// TO-DO\n",
    "\n",
    "Los algoritmos offline para este problema que se presentan a continuación:\n",
    "## Algoritmo \"First-fit-decreasing\" (**FFD**)\n",
    "La idea de este algoritmo es acomodar cada artículo de acuerdo a su tamaño; primero los artículos más grandes y cada vez que un artículo sea muy grande para la capacidad restante de los contenedores utilizados, se utilizará un nuevo contenedor."
   ]
  },
  {
   "cell_type": "code",
   "execution_count": 2,
   "metadata": {
    "executionInfo": {
     "elapsed": 250,
     "status": "ok",
     "timestamp": 1701628677235,
     "user": {
      "displayName": "ANGEL EMMANUEL PEREZ GEOVANNI",
      "userId": "16169791439669989347"
     },
     "user_tz": 360
    },
    "id": "kN4n1XGKMGom"
   },
   "outputs": [],
   "source": [
    "# Clase Instancia\n",
    "class Instancia:\n",
    "\n",
    "    def __init__(self, name, capacidad, tamanio, mejor_sol):\n",
    "        self.name = name\n",
    "        self.items = []\n",
    "        self.cap_bin = int(capacidad)\n",
    "        self.tam_instancia = int(tamanio)\n",
    "        self.mejor_solucion = int(mejor_sol)\n",
    "\n",
    "    def borrar_item(self, i):\n",
    "        self.items.delete(i)\n",
    "\n",
    "# Clase Contenedor\n",
    "class Contenedor:\n",
    "\n",
    "    def __init__(self, capacidad):\n",
    "        self.items = []\n",
    "        self.capacidad = capacidad\n",
    "        self.conteo = capacidad\n",
    "\n",
    "    def conteo_func(self):\n",
    "        self.conteo = self.capacidad - sum(self.items)\n",
    "\n",
    "    def ingresa_item(self, item):\n",
    "        self.items.append(item)\n",
    "        self.conteo_func()\n",
    "\n",
    "    def get_conteo(self):\n",
    "        return self.conteo\n"
   ]
  },
  {
   "cell_type": "markdown",
   "metadata": {
    "id": "c-dlJ6QckTlM"
   },
   "source": [
    "Se crearán dos listas una para los contenedores utilizados y otra para los artículos; para este ejercicio se utilizarán instancias del sitio: http://people.brunel.ac.uk/~mastjjb/jeb/orlib/binpackinfo.html contenidas en el directorio de este instructivo con el nombre `binpack1.txt`\n",
    " ### Instancia\n",
    " El formato del archivo es el siguiente, nombrado por renglón:\n",
    " 1. Número de instancias en el archivo (**P**)\n",
    " 1. Para cada instancia **P**\n",
    " >* Identificador del problema\n",
    " >* Capacidad del contenedor, número de artículos (**n**), mejor solución encontrada por número de contenedores\n",
    " >* Para cada artículo, su tamaño"
   ]
  },
  {
   "cell_type": "code",
   "execution_count": 3,
   "metadata": {
    "colab": {
     "base_uri": "https://localhost:8080/",
     "height": 0
    },
    "executionInfo": {
     "elapsed": 19496,
     "status": "ok",
     "timestamp": 1701628701056,
     "user": {
      "displayName": "ANGEL EMMANUEL PEREZ GEOVANNI",
      "userId": "16169791439669989347"
     },
     "user_tz": 360
    },
    "id": "fkSAFjbJh5pH",
    "outputId": "fcbc624a-2799-4c7c-e244-2e3cb610597f"
   },
   "outputs": [
    {
     "name": "stdout",
     "output_type": "stream",
     "text": [
      "Mounted at /content/drive\n"
     ]
    }
   ],
   "source": [
    "#from google.colab import drive\n",
    "#drive.mount('/content/drive')"
   ]
  },
  {
   "cell_type": "code",
   "execution_count": 4,
   "metadata": {
    "executionInfo": {
     "elapsed": 621,
     "status": "ok",
     "timestamp": 1701628707481,
     "user": {
      "displayName": "ANGEL EMMANUEL PEREZ GEOVANNI",
      "userId": "16169791439669989347"
     },
     "user_tz": 360
    },
    "id": "zNZ6qJdYkQVI"
   },
   "outputs": [],
   "source": [
    "def lee_archivo_instancias(archivo_nombre):\n",
    "    archivo = open(archivo_nombre, 'r')\n",
    "    num_instancias = int(archivo.readline())\n",
    "    # Crea instancia de objeto \"Instancia\" para retorno\n",
    "    nombre_instancia = archivo.readline()\n",
    "    lista_temp = (archivo.readline()).split()\n",
    "    instancia_1 = Instancia(nombre_instancia, lista_temp[0], lista_temp[1], lista_temp[2])\n",
    "\n",
    "    for i in range(int(lista_temp[1])):\n",
    "        instancia_1.items.append(int(archivo.readline()))\n",
    "\n",
    "    archivo.close()\n",
    "\n",
    "    # regresa una lista, capacidad del bin y la mejor solución (conocida)\n",
    "    return instancia_1\n",
    "\n",
    "\n",
    "instancia_1 = lee_archivo_instancias(\"/content/drive/MyDrive/ColabNotebooks/PT1/binpack1.txt\")"
   ]
  },
  {
   "cell_type": "markdown",
   "metadata": {
    "id": "k-6TWQY4MGos"
   },
   "source": [
    "Después de leer la instancia se procede a ordenar los artículos de forma decreciente para empezar a asignarlos."
   ]
  },
  {
   "cell_type": "code",
   "execution_count": 5,
   "metadata": {
    "executionInfo": {
     "elapsed": 191,
     "status": "ok",
     "timestamp": 1701628714347,
     "user": {
      "displayName": "ANGEL EMMANUEL PEREZ GEOVANNI",
      "userId": "16169791439669989347"
     },
     "user_tz": 360
    },
    "id": "WSyC0TgEMGot"
   },
   "outputs": [],
   "source": [
    "# Se crea una lista de contenedores vacía\n",
    "bins = []\n",
    "\n",
    "#Se agrega un contenedor al bins list para empezar\n",
    "container_temp = Contenedor(instancia_1.cap_bin)\n",
    "bins.append(container_temp)\n",
    "\n",
    "# se ordenan los articulos de la instancia de forma decreciente\n",
    "instancia_1.items.sort(reverse=True)\n",
    "\n",
    "\n",
    "# first fit decreasing\n",
    "def first_fit_decreasing(bins_list, instancia):\n",
    "    # Para cada elemento de la lista de items\n",
    "    for i in range(len(instancia.items)):\n",
    "        # Para cada contenedor\n",
    "        for j in range(len(bins_list)):\n",
    "            if instancia.items[i] <= bins_list[j].get_conteo():\n",
    "                # Entonces se ingresa en ese bin\n",
    "                bins_list[j].ingresa_item(instancia.items[i])\n",
    "                flag = True\n",
    "                break\n",
    "            else:\n",
    "                flag = False\n",
    "        # pregunta si es el ultimo bin, si ya no hay bins se crea nuevo\n",
    "        if flag == False:\n",
    "            # crea bin nuevo\n",
    "            bins_list.append(Contenedor(instancia.cap_bin))\n",
    "            # ingresa en ese bin\n",
    "            bins_list[len(bins_list)-1].ingresa_item(instancia.items[i])\n",
    "\n",
    "\n",
    "\n",
    "first_fit_decreasing(bins, instancia_1)"
   ]
  },
  {
   "cell_type": "markdown",
   "metadata": {
    "id": "3RjYZ_XXMGou"
   },
   "source": [
    "Crearemos una función para mostrar el contenido de los contenedores y su información"
   ]
  },
  {
   "cell_type": "code",
   "execution_count": 6,
   "metadata": {
    "colab": {
     "base_uri": "https://localhost:8080/",
     "height": 0
    },
    "executionInfo": {
     "elapsed": 252,
     "status": "ok",
     "timestamp": 1701628719881,
     "user": {
      "displayName": "ANGEL EMMANUEL PEREZ GEOVANNI",
      "userId": "16169791439669989347"
     },
     "user_tz": 360
    },
    "id": "MlsYpzz5MGou",
    "outputId": "cc3ad4b5-8ec6-488d-cf1c-02ee9a4be702"
   },
   "outputs": [
    {
     "name": "stdout",
     "output_type": "stream",
     "text": [
      "Contenedores obtenidos:  49 \n",
      "\n"
     ]
    }
   ],
   "source": [
    "def imprime_solucion(lista_bins):\n",
    "    print(\"Contenedores obtenidos: \", len(lista_bins),\"\\n\")\n",
    "    \"\"\"\n",
    "    for i in range(len(lista_bins)):\n",
    "        print(\"Contenedor\", (i+1),\"-> cap = \", lista_bins[i].conteo)\n",
    "        print(\"Artículos : \", lista_bins[i].items)\n",
    "    \"\"\"\n",
    "\n",
    "imprime_solucion(bins)"
   ]
  },
  {
   "cell_type": "markdown",
   "metadata": {
    "id": "X1IQlB5XMGov"
   },
   "source": [
    "---\n",
    "## Algoritmo \"Next-fit-decreasing\" (**NFD**)\n",
    "Este algoritmo funciona de la siguiente manera:\n",
    "* Se ordenan los artículos desde el más grande al mas pequeño\n",
    "* Se inicia un contenedor vacio\n",
    "* Para cada artículo se verifica si cabe en ese contenedor\n",
    ">* Si el artículo cabe en el contenedor abierto, entonces se ingresa en él\n",
    ">* De lo contrario se abre un nuevo contenedor para agrega artículos y se cierra el anterior\n",
    "\n",
    "Vamos a trabajar con la misma instancia `instancia_1`"
   ]
  },
  {
   "cell_type": "code",
   "execution_count": 7,
   "metadata": {
    "colab": {
     "base_uri": "https://localhost:8080/",
     "height": 0
    },
    "executionInfo": {
     "elapsed": 169,
     "status": "ok",
     "timestamp": 1701628727577,
     "user": {
      "displayName": "ANGEL EMMANUEL PEREZ GEOVANNI",
      "userId": "16169791439669989347"
     },
     "user_tz": 360
    },
    "id": "DgJFzKnBMGox",
    "outputId": "8748ee12-2e7e-4a67-d629-f0061988849a"
   },
   "outputs": [
    {
     "name": "stdout",
     "output_type": "stream",
     "text": [
      "Contenedores obtenidos:  67 \n",
      "\n"
     ]
    }
   ],
   "source": [
    "# Se crea una lista de contenedores vacía\n",
    "bins = []\n",
    "\n",
    "#Se agrega un contenedor al bins list para empezar\n",
    "container_temp = Contenedor(instancia_1.cap_bin)\n",
    "bins.append(container_temp)\n",
    "\n",
    "# Next fit decreasing\n",
    "def next_fit_decreasing(bins_list, instancia):\n",
    "    # Para cada elemento de la lista de items\n",
    "    for i in range(len(instancia.items)):\n",
    "        # si cabe en el contenedor abierto\n",
    "        if instancia.items[i] <= bins_list[len(bins_list)-1].get_conteo():\n",
    "            # Entonces se ingresa en ese bin\n",
    "            bins_list[len(bins_list)-1].ingresa_item(instancia.items[i])\n",
    "        # si no cabe\n",
    "        else:\n",
    "            # crea bin nuevo\n",
    "            bins_list.append(Contenedor(instancia.cap_bin))\n",
    "            # ingresa en ese bin\n",
    "            bins_list[len(bins_list)-1].ingresa_item(instancia.items[i])\n",
    "\n",
    "\n",
    "\n",
    "next_fit_decreasing(bins, instancia_1)\n",
    "imprime_solucion(bins)"
   ]
  },
  {
   "cell_type": "markdown",
   "metadata": {
    "id": "aVBBUN4kMGox"
   },
   "source": [
    "---\n",
    "## Algoritmo \"Modified-first-fit-deacreasing\" (**MFFD**)\n",
    "Este algoritmo sigue el mismo procedimiento de agrupamiento que **FFD** pero divide el conjunto de artículos a empacar, de acuerdo a su valor, en distintos _tipos_; desde el tipo $A$ hasta el tipo $G$, en este caso. Primero ordenaremos la lista de artículos de forma decreciente, donde $L={x_1,x_2,\\cdots,x_n}$ es la lista de artículos $x_i$ y $s(x_1)\\geq s(x_2)\\geq\\cdots\\geq s(x_n)$ indica el orden decreciente.\n",
    "\n",
    "$x$                           | $tipo$   \n",
    "------------------------------|-----------\n",
    "$A={x:s(x) \\in (1/2,1]}$      | A - items\n",
    "$B={x:s(x) \\in (1/3,1/2]}$    | B - items\n",
    "$C={x:s(x) \\in (1/4,1/3]}$    | C - items\n",
    "$D={x:s(x) \\in (1/5,1/4]}$    | D - items\n",
    "$E={x:s(x) \\in (1/6,1/5]}$    | E - items\n",
    "$F={x:s(x) \\in (11/71,1/6]}$  | F - items\n",
    "$G={x:s(x) \\in (0,11/71]}$    | G - items\n",
    "\n",
    "### El algoritmo\n",
    "\n",
    "Después de clasficar los artículos (_items_) en sus respectivos conjuntos (_tipos_) se aplica la rutina del **MFFD**:\n",
    "\n",
    "1. Asignar los artículos del tipo $A$ en $|A|$ contenedores $X$, donde el _nivel_ (i.e., el tamaño total de los artículos de ese contenedor) de $X_1$ indique el mayor tamaño y $X_{|A|}$ el menor nivel. Estos serán los $A$-_contenedores_.\n",
    "1. A través de los $A$-contenedores, para cada $X_i$, desde $X_1$ hasta $X_{|A|}$ hacer lo siguiente: si alguno de los artículos no empacados de tipo $B$ encaja en $X_i$ empaque el más grande en $X_i$. (Note que puede haber espacio para a lo sumo uno)\n",
    "1. A través de los $A$-contenedores, para cada $X_i$, desde $X_{|A|}$ hasta $X_1$ (de derecha a izquierda) hacer lo siguiente:\n",
    ">* Si $X_i$ contiene un artículo de tipo $B$, no hacer nada\n",
    ">* Si los dos artículos no empacados más pequeños de $C\\cup D\\cup E$ no encajan juntos o si solamente queda un artículo de este tipo, no hacer nada.\n",
    ">* De otra manera, empacar el artículo más pequeño no empacado de $C\\cup D\\cup E$ junto con el artículo, no empacado, más grande posible (que encaje) en $X_i$.\n",
    "1. Proceder, una ultima vez, a través de los $A$-contenedores, para cada $X_i$, desde $X_1$ hasta $X_{|A|}$ hacer lo siguiente: si algún artículo no empacado encaja en $X_i$ empaque el artículo más grande que encaje y repetir hasta que no encaje ningun artículo no empacado.\n",
    "1. Use **FFD** para empacar los artículos restantes no empacados empezando por $X_{|A|+1}$\n"
   ]
  },
  {
   "cell_type": "code",
   "execution_count": null,
   "metadata": {
    "id": "qlMEHUXGMGoy"
   },
   "outputs": [],
   "source": [
    "# Se vacia la lista de contenedores\n",
    "bins = []\n",
    "\n",
    "\n",
    "def subrutina_conjuntos(instancia, a, b): # (1/6,1/3]\n",
    "    # define los dos conjuntos más pequeños de un grupo de (A , B]\n",
    "    # y devuelve el valor de la suma de ambos\n",
    "    penultimo = 0\n",
    "    ultimo = instancia.cap_bin\n",
    "    conteo = 0\n",
    "    for i in range(len(instancia.items)):\n",
    "        if (instancia.items[i] > (a * instancia.cap_bin)) and \\\n",
    "            (instancia.items[i] <= (b * instancia.cap_bin))\n",
    "            if(instancia.items[i] < ultimo)\n",
    "                penultimo = ultimo\n",
    "                ultimo = instancia.items[i]\n",
    "                conteo = conteo + 1\n",
    "\n",
    "    if conteo == 1:\n",
    "        return False\n",
    "    else:\n",
    "        return (ultimo + penultimo)\n",
    "\n",
    "\n",
    "\n",
    "# modified first fit decreasing\n",
    "def modified-first_fit_decreasing(bins_list, instancia):\n",
    "    \"\"\" 1\n",
    "    \"\"\"\n",
    "    # mientras el item sea A-item:\n",
    "    while instancia.items[0] > (instancia.cap_bin/2):\n",
    "        # mientras el item sea A-item:\n",
    "        # Crear bin, agregar el A-item al A-bin, eliminar A-item[i] de items\n",
    "        bins_list.append(Contenedor(instancia.cap_bin))\n",
    "        bins_list[len(bins_list)-1].ingresar_item(instancia.item[0])\n",
    "        instancia.borrar_item(0)\n",
    "    \"\"\" 2\n",
    "    \"\"\"\n",
    "    # A través de los A-bins de 0 a |A-item|\n",
    "    for i in range(len(bins_list)):\n",
    "        # Verifica los B-items no empacados, empaca el más grande que encaje\n",
    "        # en A-bins_i\n",
    "        for j in range(len(instancia.items)):\n",
    "            if (instancia.item[j] > (instancia.cap_bin/3)) and \\\n",
    "             (instancia.item[j] <= (instancia.cap_bin/2)):\n",
    "                # Agrega el B-item si encaja\n",
    "                if instancia.item[j] <= bin_list[i].get_conteo():\n",
    "                    bin_list[i].ingresar_item(instancia.item[j])\n",
    "                    # elimina de L-items\n",
    "                    instancia.borrar_item(j)\n",
    "                    # Rompe el ciclo de los B-items y vuelve al de mayor tamaño\n",
    "                    break\n",
    "    \"\"\" 3\n",
    "    \"\"\"\n",
    "    for i in range(len(bins_list), -1, -1, -1):\n",
    "            # Verifica si hay B-items en X_i, verifica cada item\n",
    "        for j in range(len(bins_list[i].items)):\n",
    "            if (bins_list[i].items[j] > (instancia.cap_bin/3)) and \\\n",
    "             (bins_list[i].items[j] <= (instancia.cap_bin/2)):\n",
    "                break\n",
    "            # Revisa si caben los dos elementos mas pequeños de C U E U D\n",
    "            elif (bins_list[i].get_conteo() < subrutina_conjuntos(instancia, (1/6), (1/3)) \\\n",
    "                    or subrutina_conjuntos(instancia, (1/6), (1/3)) == False):\n",
    "                break\n",
    "            # En otro caso:\n",
    "            else:\n",
    "                # Empacar el artículo más grande y el más chico no empacados\n",
    "                for i in range(len(instancia.items)):\n",
    "\n",
    "\n",
    "\n",
    "\n",
    "\n",
    "\n",
    "\n"
   ]
  }
 ],
 "metadata": {
  "colab": {
   "provenance": []
  },
  "kernelspec": {
   "display_name": "Python 3 (ipykernel)",
   "language": "python",
   "name": "python3"
  },
  "language_info": {
   "codemirror_mode": {
    "name": "ipython",
    "version": 3
   },
   "file_extension": ".py",
   "mimetype": "text/x-python",
   "name": "python",
   "nbconvert_exporter": "python",
   "pygments_lexer": "ipython3",
   "version": "3.8.18"
  }
 },
 "nbformat": 4,
 "nbformat_minor": 4
}
